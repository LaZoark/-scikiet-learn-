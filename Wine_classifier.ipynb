{
  "nbformat": 4,
  "nbformat_minor": 0,
  "metadata": {
    "colab": {
      "name": "Wine_classifier.ipynb",
      "provenance": [],
      "collapsed_sections": [],
      "authorship_tag": "ABX9TyMeiI52DGj2f8JDs+MbeR++",
      "include_colab_link": true
    },
    "kernelspec": {
      "name": "python3",
      "display_name": "Python 3"
    }
  },
  "cells": [
    {
      "cell_type": "markdown",
      "metadata": {
        "id": "view-in-github",
        "colab_type": "text"
      },
      "source": [
        "<a href=\"https://colab.research.google.com/github/LaZoark/wine_classifier_scikiet-learn/blob/main/Wine_classifier.ipynb\" target=\"_parent\"><img src=\"https://colab.research.google.com/assets/colab-badge.svg\" alt=\"Open In Colab\"/></a>"
      ]
    },
    {
      "cell_type": "markdown",
      "metadata": {
        "id": "F-u3rpLECIkx"
      },
      "source": [
        "# 題目：使用 scikit-learn 的 紅酒資料庫以 KNN 分類 70% 訓練,30% 測試, K 值可自選，或用 k-fold 決定 \r\n",
        "1. 以 普胺酸(proline, 欄位12) 與 色澤(hue, 欄位10) 進行分類，劃出決策分布圖，並計算分數\r\n",
        "2. 以酒精(alcohol, 欄位0), 蘋果酸(malic_acid, 欄位1), 色澤(hue, 欄位10) 進行分類，並計算分數"
      ]
    },
    {
      "cell_type": "markdown",
      "metadata": {
        "id": "SDF5YdOyI7JO"
      },
      "source": [
        "### 載入套件、工具與資料集"
      ]
    },
    {
      "cell_type": "code",
      "metadata": {
        "id": "t__crYTjBjnQ"
      },
      "source": [
        "import numpy as np\r\n",
        "import matplotlib.pyplot as plt\r\n",
        "from sklearn import datasets\r\n",
        "from sklearn import neighbors\r\n",
        "from sklearn.model_selection import cross_val_score\r\n",
        "from matplotlib.colors import ListedColormap"
      ],
      "execution_count": 197,
      "outputs": []
    },
    {
      "cell_type": "markdown",
      "metadata": {
        "id": "sb7Kl7hGJCQU"
      },
      "source": [
        "#### 定義處理函數(取自老師講義)"
      ]
    },
    {
      "cell_type": "code",
      "metadata": {
        "id": "5j7iabI8Bor6"
      },
      "source": [
        "# 兩變數輸入分類問題劃出分隔區域\r\n",
        "def plot_decision_regions(X, y, classifier, test_idx=None, resolution=0.02):\r\n",
        "    # 類別1: 方塊, 橘色\r\n",
        "    # 類別2: 打叉, 深藍色\r\n",
        "    # 類別3: 圈圈, 綠色\r\n",
        "    # test\\_idx: 測試點的所在\r\n",
        "    # resolution: 格子點解析點\r\n",
        "    markers = ('s', 'x', 'o', '^', 'v')\r\n",
        "    colors = ('orange', 'darkblue', 'green', 'gray', 'cyan')\r\n",
        "    cmap = ListedColormap(colors[:len(np.unique(y))+3])\r\n",
        "    # 將每一格子點進行分類，並著色\r\n",
        "    x1_min, x1_max = X[:, 0].min() - 1, X[:, 0].max() + 1\r\n",
        "    x2_min, x2_max = X[:, 1].min() - 1, X[:, 1].max() + 1     \r\n",
        "    xx1, xx2 = np.meshgrid(np.arange(x1_min, x1_max,\r\n",
        "        resolution), np.arange(x2_min, x2_max, resolution))\r\n",
        "    # 取得資料，進行繪圖\r\n",
        "    Z = classifier.predict(np.array([xx1.ravel(), xx2.ravel()]).T)\r\n",
        "    Z = Z.reshape(xx1.shape)\r\n",
        "    plt.contourf(xx1, xx2, Z, alpha=0.4, cmap=cmap)\r\n",
        "    plt.xlim(xx1.min(), xx1.max())\r\n",
        "    plt.ylim(xx2.min(), xx2.max())\r\n",
        "    # 劃出資料點\r\n",
        "    for idx, cl in enumerate(np.unique(y)):\r\n",
        "        plt.scatter(x=X[y == cl, 0],\r\n",
        "            y=X[y == cl,1],alpha=0.6,\r\n",
        "            c=colors[idx],\r\n",
        "            edgecolor='black',\r\n",
        "            marker=markers[idx],label=cl)\r\n",
        "    # 測試取樣 強化式繪圖\r\n",
        "    if test_idx.any():\r\n",
        "        X_test, y_test = X[list(test_idx), :], y[list(test_idx)]\r\n",
        "        plt.scatter(X_test[:, 0],X_test[:, 1],\r\n",
        "            c=np.array(colors)[y_test.astype(int)],\r\n",
        "            alpha=1.0,\r\n",
        "            edgecolor='black',\r\n",
        "            linewidths=1,\r\n",
        "            marker='o',\r\n",
        "            s=55, label='test set')"
      ],
      "execution_count": 198,
      "outputs": []
    },
    {
      "cell_type": "markdown",
      "metadata": {
        "id": "kgkyiitZce_-"
      },
      "source": [
        "# 第一題：\r\n",
        "以 普胺酸(proline, 欄位12) 與 色澤(hue, 欄位10) 進行分類，劃出決策分布圖，並計算分數"
      ]
    },
    {
      "cell_type": "markdown",
      "metadata": {
        "id": "91iSGlbmPb8A"
      },
      "source": [
        "### 載入紅酒資料"
      ]
    },
    {
      "cell_type": "code",
      "metadata": {
        "id": "J1SBSVt_B07P"
      },
      "source": [
        "wine = datasets.load_wine()"
      ],
      "execution_count": 199,
      "outputs": []
    },
    {
      "cell_type": "markdown",
      "metadata": {
        "id": "yje-kyeIDJmv"
      },
      "source": [
        "#### 定義分類標籤"
      ]
    },
    {
      "cell_type": "code",
      "metadata": {
        "id": "jc-7VL1eCAoH"
      },
      "source": [
        "x = wine.data[:,[12,10]]    # 普胺酸還有色澤\r\n",
        "y = wine.target   "
      ],
      "execution_count": 200,
      "outputs": []
    },
    {
      "cell_type": "markdown",
      "metadata": {
        "id": "5ZPXiiMlDREV"
      },
      "source": [
        "#### 提高圖表可讀性"
      ]
    },
    {
      "cell_type": "code",
      "metadata": {
        "id": "FcGQ3dGZDTRv"
      },
      "source": [
        "x[:,0] = x[:,0]/300    #縮放Proline的比例"
      ],
      "execution_count": 201,
      "outputs": []
    },
    {
      "cell_type": "markdown",
      "metadata": {
        "id": "imggVoI4DhgF"
      },
      "source": [
        "### 以K-Fold方法來決定k值"
      ]
    },
    {
      "cell_type": "code",
      "metadata": {
        "id": "_R4Wk0rfDbKQ"
      },
      "source": [
        "# 變更群組數目, 從群組個數 1 至 30\r\n",
        "Ks = np.arange(1, round(0.2*len(x) + 1))\r\n",
        "accuracies=[]\r\n",
        "for k in Ks:\r\n",
        "    knn = neighbors.KNeighborsClassifier(n_neighbors=k)\r\n",
        "    scores = cross_val_score(knn, x, y, scoring=\"accuracy\", cv=20)    \r\n",
        "    accuracies.append(scores.mean())    # 每個都嘗試"
      ],
      "execution_count": 202,
      "outputs": []
    },
    {
      "cell_type": "markdown",
      "metadata": {
        "id": "e_UFjRikD33T"
      },
      "source": [
        "#### 分數與k值對應曲線圖"
      ]
    },
    {
      "cell_type": "code",
      "metadata": {
        "colab": {
          "base_uri": "https://localhost:8080/",
          "height": 295
        },
        "id": "Fn8HDUl5D9oH",
        "outputId": "b3ba80d0-75e3-40d9-cc33-b101ad32316f"
      },
      "source": [
        "plt.plot(Ks, accuracies)\r\n",
        "acc_array=np.array(accuracies)  # 轉 list 成 ndarray\r\n",
        "imax=acc_array.argmax()         # 最後找出最大值\r\n",
        "plt.scatter(Ks[imax],acc_array[imax],s=200,color='yellow')\r\n",
        "plt.xlabel('K in KNN')\r\n",
        "plt.xlim([Ks[0],Ks[-1]])\r\n",
        "plt.ylabel('score')\r\n",
        "plt.title('Wine classified by K-fold (K=20)')\r\n",
        "plt.show()"
      ],
      "execution_count": 203,
      "outputs": [
        {
          "output_type": "display_data",
          "data": {
            "image/png": "[encoded data removed]",
            "text/plain": [
              "<Figure size 432x288 with 1 Axes>"
            ]
          },
          "metadata": {
            "tags": [],
            "needs_background": "light"
          }
        }
      ]
    },
    {
      "cell_type": "markdown",
      "metadata": {
        "id": "7vopZSNYEoWk"
      },
      "source": [
        "#### 最好的k值"
      ]
    },
    {
      "cell_type": "code",
      "metadata": {
        "colab": {
          "base_uri": "https://localhost:8080/"
        },
        "id": "4k9spwDcEpHd",
        "outputId": "ece6a4cc-f8f9-4296-c8c5-b66c861952bf"
      },
      "source": [
        "print('成績最高的 KNN 為 K=',Ks[imax])\r\n",
        "print('最高成績={:.4f}'.format(acc_array[imax]))\r\n",
        "k = Ks[imax]\r\n",
        "# 定義knn模型\r\n",
        "knn = neighbors.KNeighborsClassifier(n_neighbors=k,weights='distance') #利用距離的倒數作為加權，改善同票問題。"
      ],
      "execution_count": 204,
      "outputs": [
        {
          "output_type": "stream",
          "text": [
            "成績最高的 KNN 為 K= 5\n",
            "最高成績=0.8993\n"
          ],
          "name": "stdout"
        }
      ]
    },
    {
      "cell_type": "markdown",
      "metadata": {
        "id": "rNtx_EGiEXX6"
      },
      "source": [
        "### 資料分割 ：70% 訓練, 30% 測試"
      ]
    },
    {
      "cell_type": "code",
      "metadata": {
        "id": "OGWKbk3NEY9X"
      },
      "source": [
        "from sklearn.model_selection import train_test_split\r\n",
        "indice=np.arange(y.size)  \r\n",
        "x_train, x_test, y_train, y_test,indice_train,indice_test=train_test_split(x, y,indice,test_size=0.3, random_state=0)"
      ],
      "execution_count": 205,
      "outputs": []
    },
    {
      "cell_type": "markdown",
      "metadata": {
        "id": "muZ1IrhJEXsF"
      },
      "source": [
        "### 訓練資料集"
      ]
    },
    {
      "cell_type": "code",
      "metadata": {
        "colab": {
          "base_uri": "https://localhost:8080/"
        },
        "id": "UHmQRiZMOyQq",
        "outputId": "6c9cbc6b-2ed7-4447-9b68-7d3f0d2cd194"
      },
      "source": [
        "knn.fit(x_train, y_train)"
      ],
      "execution_count": 206,
      "outputs": [
        {
          "output_type": "execute_result",
          "data": {
            "text/plain": [
              "KNeighborsClassifier(algorithm='auto', leaf_size=30, metric='minkowski',\n",
              "                     metric_params=None, n_jobs=None, n_neighbors=5, p=2,\n",
              "                     weights='distance')"
            ]
          },
          "metadata": {
            "tags": []
          },
          "execution_count": 206
        }
      ]
    },
    {
      "cell_type": "markdown",
      "metadata": {
        "id": "klDXmpfjO2Ov"
      },
      "source": [
        "### 畫出決策分布圖"
      ]
    },
    {
      "cell_type": "code",
      "metadata": {
        "colab": {
          "base_uri": "https://localhost:8080/",
          "height": 297
        },
        "id": "SCm3gnJkFCnh",
        "outputId": "dff313af-9058-4689-f222-baf0837e558a"
      },
      "source": [
        "plot_decision_regions(x, y, test_idx=indice_test,classifier=knn)\r\n",
        "plt.legend(loc='upper left')\r\n",
        "plt.title('Wine_Classification',fontsize=25)\r\n",
        "plt.xlabel('Proline',fontsize=20)\r\n",
        "plt.ylabel('Hue',fontsize=20)\r\n",
        "plt.tight_layout()"
      ],
      "execution_count": 207,
      "outputs": [
        {
          "output_type": "display_data",
          "data": {
            "image/png": "[encoded data removed]",
            "text/plain": [
              "<Figure size 432x288 with 1 Axes>"
            ]
          },
          "metadata": {
            "tags": [],
            "needs_background": "light"
          }
        }
      ]
    },
    {
      "cell_type": "markdown",
      "metadata": {
        "id": "pSZZXg0dHwrC"
      },
      "source": [
        "### 輸出分數結果"
      ]
    },
    {
      "cell_type": "code",
      "metadata": {
        "colab": {
          "base_uri": "https://localhost:8080/"
        },
        "id": "0mGvz_UFHw_7",
        "outputId": "c5378f1a-7c18-4244-82f6-afee77ee8aab"
      },
      "source": [
        "print('訓練分數={:.4f}'.format(knn.score(x_train,y_train)))\r\n",
        "print('測試分數={:.4f}'.format(knn.score(x_test, y_test)))\r\n",
        "y_predict=knn.predict(x_test)\r\n",
        "right=sum(y_test==y_predict)\r\n",
        "wrong=sum(y_test!=y_predict)\r\n",
        "print('測試數={:d},正確數={:d},錯誤數={:d}'.format(y_test.size,right,wrong))\r\n",
        "print('準確率={:.4f}'.format(right/y_test.size))"
      ],
      "execution_count": 208,
      "outputs": [
        {
          "output_type": "stream",
          "text": [
            "訓練分數=1.0000\n",
            "測試分數=0.8889\n",
            "測試數=54,正確數=48,錯誤數=6\n",
            "準確率=0.8889\n"
          ],
          "name": "stdout"
        }
      ]
    },
    {
      "cell_type": "markdown",
      "metadata": {
        "id": "5X2V97Zab11I"
      },
      "source": [
        "# 第二題：\r\n",
        "以酒精(alcohol, 欄位0), 蘋果酸(malic_acid, 欄位1), 色澤(hue, 欄位10) 進行分類，並計算分數"
      ]
    },
    {
      "cell_type": "markdown",
      "metadata": {
        "id": "py2Hht4UdNpq"
      },
      "source": [
        "### 重新將x指定為酒精、蘋果酸及色澤\r\n",
        "其實只需要改x那行，其他程式皆無須改變"
      ]
    },
    {
      "cell_type": "code",
      "metadata": {
        "id": "f1jf-6zib2Od"
      },
      "source": [
        "x = wine.data[:,[0,1,10]]   # 酒精、蘋果酸及色澤\r\n",
        "y = wine.target"
      ],
      "execution_count": 209,
      "outputs": []
    },
    {
      "cell_type": "code",
      "metadata": {
        "colab": {
          "base_uri": "https://localhost:8080/",
          "height": 404
        },
        "id": "FtHOIGQUgNNe",
        "outputId": "60b64f7d-c593-40d5-e975-598bd9f0e005"
      },
      "source": [
        " x[:,0] = x[:,0]/300\r\n",
        "\r\n",
        "\"\"\"# 以K-Fold方法來決定k值\"\"\"\r\n",
        "\r\n",
        "# 變更群組數目, 從群組個數 1 至 30\r\n",
        "Ks = np.arange(1, round(0.2*len(x) + 1))\r\n",
        "accuracies=[]\r\n",
        "for k in Ks:\r\n",
        "    knn = neighbors.KNeighborsClassifier(n_neighbors=k)\r\n",
        "    scores = cross_val_score(knn, x, y, scoring=\"accuracy\", cv=20)    \r\n",
        "    accuracies.append(scores.mean())    # 每個都嘗試\r\n",
        "\r\n",
        "\"\"\"# 分數與k值對應曲線圖\"\"\"\r\n",
        "\r\n",
        "plt.plot(Ks, accuracies)\r\n",
        "acc_array=np.array(accuracies)  # 轉 list 成 ndarray\r\n",
        "imax=acc_array.argmax()         # 最後找出最大值\r\n",
        "plt.scatter(Ks[imax],acc_array[imax],s=200,color='yellow')\r\n",
        "plt.xlabel('K in KNN')\r\n",
        "plt.xlim([Ks[0],Ks[-1]])\r\n",
        "plt.ylabel('score')\r\n",
        "plt.title('Wine classified by K-fold (K=20)')\r\n",
        "plt.show()\r\n",
        "\r\n",
        "\"\"\"# 最好的k值\"\"\"\r\n",
        "\r\n",
        "print('成績最高的 KNN 為 K=',Ks[imax])\r\n",
        "print('最高成績={:.4f}'.format(acc_array[imax]))\r\n",
        "k = Ks[imax]\r\n",
        "# 定義knn模型\r\n",
        "knn = neighbors.KNeighborsClassifier(n_neighbors=k,weights='distance') #利用距離的倒數作為加權，改善同票問題。\r\n",
        "\r\n",
        "\"\"\"# 資料分割 ：70% 訓練, 30% 測試\"\"\"\r\n",
        "\r\n",
        "from sklearn.model_selection import train_test_split\r\n",
        "indice=np.arange(y.size)  \r\n",
        "x_train, x_test, y_train, y_test,indice_train,indice_test=train_test_split(x, y,indice,test_size=0.3, random_state=0)\r\n",
        "\r\n",
        "\"\"\"# 訓練資料集\"\"\"\r\n",
        "\r\n",
        "knn.fit(x_train, y_train)\r\n",
        "\r\n",
        "\"\"\"# 輸出分數結果\"\"\"\r\n",
        "\r\n",
        "print('訓練分數={:.4f}'.format(knn.score(x_train,y_train)))\r\n",
        "print('測試分數={:.4f}'.format(knn.score(x_test, y_test)))\r\n",
        "y_predict=knn.predict(x_test)\r\n",
        "right=sum(y_test==y_predict)\r\n",
        "wrong=sum(y_test!=y_predict)\r\n",
        "print('測試數={:d},正確數={:d},錯誤數={:d}'.format(y_test.size,right,wrong))\r\n",
        "print('準確率={:.4f}'.format(right/y_test.size))"
      ],
      "execution_count": 210,
      "outputs": [
        {
          "output_type": "display_data",
          "data": {
            "image/png": "[encoded data removed]",
            "text/plain": [
              "<Figure size 432x288 with 1 Axes>"
            ]
          },
          "metadata": {
            "tags": [],
            "needs_background": "light"
          }
        },
        {
          "output_type": "stream",
          "text": [
            "成績最高的 KNN 為 K= 3\n",
            "最高成績=0.7694\n",
            "訓練分數=1.0000\n",
            "測試分數=0.7222\n",
            "測試數=54,正確數=39,錯誤數=15\n",
            "準確率=0.7222\n"
          ],
          "name": "stdout"
        }
      ]
    }
  ]
}